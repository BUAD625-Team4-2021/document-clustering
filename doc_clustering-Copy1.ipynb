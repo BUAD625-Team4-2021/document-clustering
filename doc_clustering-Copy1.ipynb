{
 "cells": [
  {
   "cell_type": "markdown",
   "metadata": {},
   "source": [
    "https://www.geeksforgeeks.org/aspect-modelling-in-sentiment-analysis/"
   ]
  },
  {
   "cell_type": "code",
   "execution_count": 5,
   "metadata": {},
   "outputs": [
    {
     "name": "stdout",
     "output_type": "stream",
     "text": [
      "ASPECT EXTRACTION\n",
      "\n",
      "[{'aspect': '', 'description': ''}, {'aspect': '', 'description': ''}, {'aspect': '', 'description': ''}, {'aspect': 'cake', 'description': ''}, {'aspect': 'cake', 'description': ''}, {'aspect': 'cake', 'description': ''}, {'aspect': 'cake', 'description': 'really tasty'}, {'aspect': '', 'description': ''}, {'aspect': 'party', 'description': ''}, {'aspect': 'party', 'description': ''}, {'aspect': 'party', 'description': 'amazing'}, {'aspect': 'party', 'description': 'amazing'}, {'aspect': '', 'description': ''}, {'aspect': 'mom', 'description': ''}, {'aspect': 'mom', 'description': ''}, {'aspect': 'mom', 'description': ''}, {'aspect': 'mom', 'description': 'best'}, {'aspect': 'mom', 'description': 'best'}, {'aspect': '', 'description': ''}, {'aspect': 'response', 'description': ''}, {'aspect': 'response', 'description': ''}, {'aspect': 'response', 'description': ''}, {'aspect': 'response', 'description': ''}, {'aspect': 'response', 'description': ''}, {'aspect': 'response', 'description': ''}, {'aspect': 'response', 'description': ''}, {'aspect': 'response', 'description': ''}, {'aspect': 'response', 'description': ''}, {'aspect': 'response', 'description': 'very enjoyable'}]\n"
     ]
    }
   ],
   "source": [
    "# Importing the required libraries\n",
    "import spacy\n",
    "sp = spacy.load(\"en_core_web_sm\")\n",
    "\n",
    "# Creating a list of positive and negative sentences.\n",
    "mixed_sen = [\n",
    "    'This chocolate truffle cake is really tasty',\n",
    "    'This party is amazing!',\n",
    "    'My mom is the best!',\n",
    "    'App response is very slow!'\n",
    "    'The trip to India was very enjoyable'\n",
    "]\n",
    "\n",
    "# An empty list for obtaining the extracted aspects\n",
    "# from sentences.\n",
    "ext_aspects = []\n",
    "\n",
    "# Performing Aspect Extraction\n",
    "for sen in mixed_sen:\n",
    "    important = sp(sen)\n",
    "    descriptive_item = ''\n",
    "    target = ''\n",
    "    for token in important:\n",
    "        if token.dep_ == 'nsubj' and token.pos_ == 'NOUN':\n",
    "            target = token.text\n",
    "        if token.pos_ == 'ADJ':\n",
    "            added_terms = ''\n",
    "            for mini_token in token.children:\n",
    "                if mini_token.pos_ != 'ADV':\n",
    "                    continue\n",
    "                added_terms += mini_token.text + ' '\n",
    "            descriptive_item = added_terms + token.text\n",
    "        ext_aspects.append({'aspect': target,\n",
    "            'description': descriptive_item})\n",
    "\n",
    "print(\"ASPECT EXTRACTION\\n\")\n",
    "print(ext_aspects)\n"
   ]
  },
  {
   "cell_type": "markdown",
   "metadata": {},
   "source": [
    "https://www.analyticsvidhya.com/blog/2016/08/beginners-guide-to-topic-modeling-in-python/"
   ]
  },
  {
   "cell_type": "code",
   "execution_count": 22,
   "metadata": {},
   "outputs": [
    {
     "name": "stderr",
     "output_type": "stream",
     "text": [
      "[nltk_data] Downloading package wordnet to C:\\Users\\Master of the\n",
      "[nltk_data]     House\\AppData\\Roaming\\nltk_data...\n",
      "[nltk_data]   Package wordnet is already up-to-date!\n"
     ]
    },
    {
     "name": "stdout",
     "output_type": "stream",
     "text": [
      "[(0, '0.076*\"sugar\" + 0.075*\"lifestyle\" + 0.075*\"expert\"'), (1, '0.065*\"driving\" + 0.065*\"father\" + 0.065*\"sister\"'), (2, '0.059*\"pressure\" + 0.059*\"sister\" + 0.059*\"father\"')]\n"
     ]
    }
   ],
   "source": [
    "doc1 = \"Sugar is bad to consume. My sister likes to have sugar, but not my father.\"\n",
    "doc2 = \"My father spends a lot of time driving my sister around to dance practice.\"\n",
    "doc3 = \"Doctors suggest that driving may cause increased stress and blood pressure.\"\n",
    "doc4 = \"Sometimes I feel pressure to perform well at school, but my father never seems to drive my sister to do better.\"\n",
    "doc5 = \"Health experts say that Sugar is not good for your lifestyle.\"\n",
    "\n",
    "# compile documents\n",
    "doc_complete = [doc1, doc2, doc3, doc4, doc5]\n",
    "\n",
    "import nltk\n",
    "from nltk.corpus import stopwords\n",
    "from nltk.stem.wordnet import WordNetLemmatizer\n",
    "nltk.download('wordnet')\n",
    "import string\n",
    "stop = set(stopwords.words('english'))\n",
    "exclude = set(string.punctuation)\n",
    "lemma = WordNetLemmatizer()\n",
    "def clean(doc):\n",
    "    stop_free = \" \".join([i for i in doc.lower().split() if i not in stop])\n",
    "    punc_free = ''.join(ch for ch in stop_free if ch not in exclude)\n",
    "    normalized = \" \".join(lemma.lemmatize(word) for word in punc_free.split())\n",
    "    return normalized\n",
    "\n",
    "doc_clean = [clean(doc).split() for doc in doc_complete] \n",
    "\n",
    "# Importing Gensim\n",
    "import gensim\n",
    "from gensim import corpora\n",
    "dictionary = corpora.Dictionary(doc_clean)\n",
    "\n",
    "# Creating the term dictionary of our courpus, where every unique term is assigned an index. dictionary = corpora.Dictionary(doc_clean)\n",
    "\n",
    "# Converting list of documents (corpus) into Document Term Matrix using dictionary prepared above.\n",
    "doc_term_matrix = [dictionary.doc2bow(doc) for doc in doc_clean]\n",
    "\n",
    "# Creating the object for LDA model using gensim library\n",
    "Lda = gensim.models.ldamodel.LdaModel\n",
    "\n",
    "# Running and Trainign LDA model on the document term matrix.\n",
    "ldamodel = Lda(doc_term_matrix, num_topics=3, id2word = dictionary, passes=50)\n",
    "\n",
    "print(ldamodel.print_topics(num_topics=3, num_words=3))"
   ]
  },
  {
   "cell_type": "markdown",
   "metadata": {},
   "source": [
    "https://medium.com/swlh/tweets-classification-and-clustering-in-python-b107be1ba7c7"
   ]
  },
  {
   "cell_type": "code",
   "execution_count": null,
   "metadata": {},
   "outputs": [],
   "source": [
    "import pandas as pd\n",
    "import numpy as np\n",
    "import matplotlib.pyplot as plt\n",
    "import seaborn as sns\n",
    "import re\n",
    "import spacy\n",
    "from sklearn.model_selection import train_test_split\n",
    "import nltk\n",
    "from nltk.tokenize import RegexpTokenizer, WhitespaceTokenizer\n",
    "from nltk.stem import WordNetLemmatizer\n",
    "from nltk.corpus import stopwords\n",
    "import string\n",
    "from string import punctuation\n",
    "import collections\n",
    "from collections import Counter\n",
    "from sklearn.feature_extraction.text import CountVectorizer, TfidfVectorizer\n",
    "import en_core_web_sm\n",
    "from sklearn.feature_extraction.text import CountVectorizer, TfidfTransformer\n",
    "from sklearn.metrics.pairwise import cosine_similarity\n",
    "from sklearn.metrics import jaccard_score\n",
    "\n",
    "# remove the hashtags, mentions and unwanted characters.\n",
    "def clean_text(df, text_field):\n",
    "    df[text_field] = df[text_field].str.lower()\n",
    "    df[text_field] = df[text_field].apply(lambda elem: re.sub(r”         (@[A-Za-z0–9]+)|([⁰-9A-Za-z \\t])|(\\w+:\\/\\/\\S+)|^rt|http.+?”, “”,   elem)) \n",
    "    return df\n",
    "tweets_bowl = clean_text(tweets_bowl, ‘tweets’)\n",
    "tweets_bowl.head()```\n",
    "\n",
    "nlp = en_core_web_sm.load() \n",
    "tokenizer = RegexpTokenizer(r’\\w+’)\n",
    "lemmatizer = WordNetLemmatizer()\n",
    "stop = set(stopwords.words(‘english’))\n",
    "punctuation = list(string.punctuation) #already taken care of with the cleaning function.\n",
    "stop.update(punctuation)\n",
    "w_tokenizer = WhitespaceTokenizer()\n",
    "def furnished(text):\n",
    "    final_text = []\n",
    "    for i in w_tokenizer.tokenize(text):\n",
    "        if i.lower() not in stop:\n",
    "            word = lemmatizer.lemmatize(i)\n",
    "            final_text.append(word.lower())\n",
    "    return “ “.join(final_text)\n",
    "tweets_bowl.tweets = tweets_bowl.tweets.apply(furnished)"
   ]
  },
  {
   "cell_type": "markdown",
   "metadata": {},
   "source": [
    "# Aspect Identifying\n",
    "###### 7/6 - Assigment 4\n",
    "<p> We take the tweets out of the data, clean them of html, hashtags and mentions, then run the text through a tokenizer before identifying the most common words/phrases throughout the tweets. Those common words/phrases are then the aspects we base the clustering of the tweets on. As of right now, the model is using singular terms with a fixed dictionary, the hope is to move towards a dynamic dictionary that grows with the new data recieved.</p>\n",
    "\n",
    "###### 7/12 - Assigment 5\n",
    "<p>We are now showing the top 10 words per cluster and doing postprocessing on those words for cluster assignment. Instead of trying to assign one cluster at first, each tweet has been given a cluster ranking, indicating how much of a cluster each one is assigned to. Also, we have added in clustering by k-means to determine the amount of clusters there should be through a scientific and data-driven approach, rather than 5 for convenience.</p>\n",
    "\n",
    "7/19 - Assignment 6"
   ]
  },
  {
   "cell_type": "code",
   "execution_count": 1,
   "metadata": {},
   "outputs": [],
   "source": [
    "import preprocessor as p #https://pypi.org/project/tweet-preprocessor/\n",
    "import numpy as np\n",
    "import pandas as pd\n",
    "import nltk\n",
    "#nltk.download('stopwords')\n",
    "#nltk.download('punkt')\n",
    "from nltk.stem.snowball import SnowballStemmer\n",
    "from bs4 import BeautifulSoup\n",
    "import re\n",
    "import os\n",
    "import codecs\n",
    "from sklearn import feature_extraction\n",
    "import string\n",
    "from collections import Counter\n",
    "from nltk.tokenize import word_tokenize\n",
    "from nltk.corpus import stopwords"
   ]
  },
  {
   "cell_type": "code",
   "execution_count": null,
   "metadata": {},
   "outputs": [],
   "source": [
    "#https://www.programcreek.com/python/example/83254/sklearn.feature_extraction.text.TfidfVectorizer\n",
    "def create_union_model(params=None):\n",
    "    def preprocessor(tweet):\n",
    "        tweet = tweet.lower()\n",
    "\n",
    "        for k in emo_repl_order:\n",
    "            tweet = tweet.replace(k, emo_repl[k])\n",
    "        for r, repl in re_repl.iteritems():\n",
    "            tweet = re.sub(r, repl, tweet)\n",
    "\n",
    "        return tweet.replace(\"-\", \" \").replace(\"_\", \" \")\n",
    "\n",
    "    tfidf_ngrams = TfidfVectorizer(preprocessor=preprocessor,\n",
    "                                   analyzer=\"word\")\n",
    "    ling_stats = LinguisticVectorizer()\n",
    "    all_features = FeatureUnion(\n",
    "        [('ling', ling_stats), ('tfidf', tfidf_ngrams)])\n",
    "    #all_features = FeatureUnion([('tfidf', tfidf_ngrams)])\n",
    "    #all_features = FeatureUnion([('ling', ling_stats)])\n",
    "    clf = MultinomialNB()\n",
    "    pipeline = Pipeline([('all', all_features), ('clf', clf)])\n",
    "\n",
    "    if params:\n",
    "        pipeline.set_params(**params)\n",
    "\n",
    "    return pipeline "
   ]
  },
  {
   "cell_type": "markdown",
   "metadata": {},
   "source": [
    "Read the tweets"
   ]
  },
  {
   "cell_type": "code",
   "execution_count": 2,
   "metadata": {},
   "outputs": [],
   "source": [
    "df = pd.read_csv('data/Tweets.csv')\n",
    "tweets = df.text"
   ]
  },
  {
   "cell_type": "code",
   "execution_count": 3,
   "metadata": {},
   "outputs": [],
   "source": [
    "new_tweets = []\n",
    "for tweet in tweets:\n",
    "    tweet = tweet.lower()\n",
    "    tweet = BeautifulSoup(tweet, 'html.parser').getText()\n",
    "    tweet = p.clean(tweet)\n",
    "    new_tweets.append(tweet)"
   ]
  },
  {
   "cell_type": "code",
   "execution_count": 4,
   "metadata": {},
   "outputs": [],
   "source": [
    "tweets = new_tweets\n",
    "#tweets"
   ]
  },
  {
   "cell_type": "code",
   "execution_count": 5,
   "metadata": {},
   "outputs": [],
   "source": [
    "stopwords = nltk.corpus.stopwords.words('english')\n",
    "\n",
    "stemmer = SnowballStemmer(\"english\")"
   ]
  },
  {
   "cell_type": "code",
   "execution_count": 6,
   "metadata": {},
   "outputs": [],
   "source": [
    "def tokenize_and_stem(text):\n",
    "    tokens = [word for sent in nltk.sent_tokenize(text) for word in nltk.word_tokenize(sent)]\n",
    "    filtered_tokens = []\n",
    "    for token in tokens:\n",
    "        if re.search('[a-zA-Z]', token):\n",
    "            filtered_tokens.append(token)\n",
    "    stems = [stemmer.stem(t) for t in filtered_tokens]\n",
    "    return stems"
   ]
  },
  {
   "cell_type": "code",
   "execution_count": 7,
   "metadata": {},
   "outputs": [],
   "source": [
    "def tokenize_only(text):\n",
    "    tokens = [word.lower() for sent in nltk.sent_tokenize(text) for word in nltk.word_tokenize(sent)]\n",
    "    filtered_tokens = []\n",
    "    for token in tokens:\n",
    "        if re.search('[a-zA-Z]', token):\n",
    "            filtered_tokens.append(token)\n",
    "    return filtered_tokens"
   ]
  },
  {
   "cell_type": "code",
   "execution_count": 8,
   "metadata": {},
   "outputs": [],
   "source": [
    "totalvocab_stemmed = []\n",
    "totalvocab_tokenized = []\n",
    "for i in tweets:\n",
    "    allwords_stemmed = tokenize_and_stem(i) # for each item in 'tweets', tokenize/stem\n",
    "    totalvocab_stemmed.extend(allwords_stemmed) # extend the 'totalvocab_stemmed' list\n",
    "    \n",
    "    allwords_tokenized = tokenize_only(i)\n",
    "    totalvocab_tokenized.extend(allwords_tokenized)"
   ]
  },
  {
   "cell_type": "code",
   "execution_count": 9,
   "metadata": {},
   "outputs": [],
   "source": [
    "vocab_frame = pd.DataFrame({'words': totalvocab_tokenized}, index = totalvocab_stemmed)"
   ]
  },
  {
   "cell_type": "code",
   "execution_count": 10,
   "metadata": {},
   "outputs": [],
   "source": [
    "#https://www.kaggle.com/jbencina/clustering-documents-with-tfidf-and-kmeans\n",
    "import numpy as np\n",
    "import pandas as pd\n",
    "import matplotlib.pyplot as plt\n",
    "import matplotlib.cm as cm\n",
    "\n",
    "from sklearn.cluster import MiniBatchKMeans\n",
    "from sklearn.feature_extraction.text import TfidfVectorizer\n",
    "from sklearn.decomposition import PCA\n",
    "from sklearn.manifold import TSNE"
   ]
  },
  {
   "cell_type": "code",
   "execution_count": 11,
   "metadata": {},
   "outputs": [
    {
     "name": "stderr",
     "output_type": "stream",
     "text": [
      "C:\\Code\\lib\\site-packages\\sklearn\\feature_extraction\\text.py:383: UserWarning: Your stop_words may be inconsistent with your preprocessing. Tokenizing the stop words generated tokens ['abov', 'afterward', 'alon', 'alreadi', 'alway', 'ani', 'anoth', 'anyon', 'anyth', 'anywher', 'becam', 'becaus', 'becom', 'befor', 'besid', 'cri', 'describ', 'dure', 'els', 'elsewher', 'empti', 'everi', 'everyon', 'everyth', 'everywher', 'fifti', 'forti', 'henc', 'hereaft', 'herebi', 'howev', 'hundr', 'inde', 'mani', 'meanwhil', 'moreov', 'nobodi', 'noon', 'noth', 'nowher', 'onc', 'onli', 'otherwis', 'ourselv', 'perhap', 'pleas', 'sever', 'sinc', 'sincer', 'sixti', 'someon', 'someth', 'sometim', 'somewher', 'themselv', 'thenc', 'thereaft', 'therebi', 'therefor', 'togeth', 'twelv', 'twenti', 'veri', 'whatev', 'whenc', 'whenev', 'wherea', 'whereaft', 'wherebi', 'wherev', 'whi', 'yourselv'] not in stop_words.\n",
      "  warnings.warn('Your stop_words may be inconsistent with '\n"
     ]
    },
    {
     "name": "stdout",
     "output_type": "stream",
     "text": [
      "Wall time: 10.2 s\n"
     ]
    }
   ],
   "source": [
    "from sklearn.feature_extraction.text import TfidfVectorizer\n",
    "\n",
    "#define vectorizer parameters\n",
    "tfidf_vectorizer = TfidfVectorizer(max_df=0.90, min_df=10,\n",
    "                                   stop_words='english', max_features=10000,\n",
    "                                   strip_accents='unicode', use_idf=True, \n",
    "                                   tokenizer=tokenize_and_stem, ngram_range=(2,3))\n",
    "\n",
    "%time tfidf_matrix = tfidf_vectorizer.fit_transform(tweets) #fit the vectorizer to tweets"
   ]
  },
  {
   "cell_type": "code",
   "execution_count": 12,
   "metadata": {},
   "outputs": [
    {
     "name": "stdout",
     "output_type": "stream",
     "text": [
      "[\"'d like\", \"'d love\", \"'m fli\", \"'m flight\", \"'m just\", \"'m sorri\", \"'m stuck\", \"'m sure\", \"'m tri\", \"'s bag\", \"'s best\", \"'s cancel\", \"'s ceo\", \"'s ceo battl\", \"'s delay\", \"'s fleek\", \"'s flight\", \"'s good\", \"'s happen\", \"'s hour\", \"'s just\", \"'s new\", \"'s ok\", \"'s time\", \"'s whi\", 'admir club', 'agent help', \"agent n't\", 'agent phone', 'airlin cancel', 'airlin cancel flight', 'airlin flight', 'airlin ve', 'airport hour', 'alreadi cancel', 'american airlin', 'ani airlin', 'ani chanc', 'ani flight', 'ani help', 'ani idea', 'ani info', 'ani updat', 'ani way', 'anoth airlin', 'anoth flight', 'anoth hour', 'answer phone', 'anyon phone', 'app say', 'appeas passeng', 'appeas passeng wall', 'avail flight', 'awesom flight', 'awesom thank', 'bad weather', \"bag 's\", 'bag check', 'bag flight', 'bag lost', \"bag n't\", 'baggag claim', 'baggag fee', 'battl appeas', 'battl appeas passeng', 'becaus flight', \"becaus n't\", 'befor board', 'befor flight', 'best airlin', 'best flight', 'big thank', 'board flight', 'board pass', 'board plane', 'book flight', 'book onlin', 'book problem', 'book problem flight', 'book ticket', 'busi class', \"ca n't\", \"ca n't anyon\", \"ca n't believ\", \"ca n't book\", \"ca n't chang\", \"ca n't dm\", \"ca n't flight\", \"ca n't help\", \"ca n't phone\", \"ca n't use\", \"ca n't wait\", 'cancel flight', 'cancel flight flight', 'cancel flight reserv', 'cancel flightat', 'cancel flightl', 'cancel flightl flight', 'cancel flightl hold', 'cancel flightl ticket', 'cancel flightlat', 'car seat', 'care custom', 'caus miss', 'ceo battl', 'ceo battl appeas', 'chang fee', 'chang flight', 'chang onlin', 'chang reserv', 'chang ticket', 'check bag', 'check baggag', 'check flight', 'check onlin', 'class seat', 'companion pass', 'confirm number', 'connect flight', 'credit card', 'crew member', 'cross countri', 'cust servic', 'custom care', 'custom experi', 'custom relat', 'custom servic', 'custom servic agent', 'custom servic line', 'custom servic rep', 'custom servic today', 'day ago', 'day flight', 'day late', 'day vacat', 'delay becaus', 'delay cancel', 'delay cancel flightlat', 'delay flight', 'delay hour', 'delay hrs', 'delay miss', \"delay n't\", 'departur time', 'dfw cancel', 'dfw cancel flightl', \"did n't\", 'differ flight', 'direct flight', 'dividend mile', \"dm 'd\", 'dm confirm', 'dm sent', 'doe mean', \"doe n't\", \"doe n't help\", \"doe n't work\", 'earli bird', 'earlier flight', 'email address', 'email custom', 'empti seat', 'everi flight', 'everi singl', 'everi time', 'exit row', 'feel like', 'file claim', 'final board', 'final destin', 'final got', 'finger cross', \"fleet 's\", \"fleet 's fleek\", 'fli airlin', 'fli experi', 'fli guy', 'fli home', 'fli jetblu', 'fli southwest', 'fli time', 'fli unit', \"flight 'm\", \"flight 's\", 'flight aa', 'flight alreadi', 'flight arriv', 'flight attend', 'flight becaus', 'flight bna', 'flight board', 'flight book', 'flight book problem', 'flight bos', 'flight boston', 'flight ca', \"flight ca n't\", 'flight cancel', 'flight cancel flight', 'flight cancel flightl', 'flight chang', 'flight chicago', 'flight clt', 'flight come', 'flight crew', 'flight dalla', 'flight day', 'flight dca', 'flight delay', 'flight delay hour', 'flight depart', 'flight dfw', 'flight did', \"flight did n't\", 'flight ewr', 'flight experi', 'flight flight', 'flight fll', 'flight gate', 'flight got', 'flight got cancel', 'flight help', 'flight hold', 'flight home', 'flight hour', 'flight hrs', 'flight info', 'flight jfk', 'flight just', 'flight land', 'flight late', 'flight late flight', 'flight lax', 'flight leav', 'flight left', 'flight make', 'flight minut', 'flight miss', 'flight morn', \"flight n't\", 'flight nashvill', 'flight need', 'flight number', 'flight onli', 'flight onlin', 'flight ord', 'flight phl', 'flight phx', 'flight plan', 'flight plane', 'flight pleas', 'flight rebook', 'flight reschedul', 'flight reserv', 'flight san', 'flight say', 'flight schedul', 'flight sfo', 'flight status', 'flight thank', 'flight time', 'flight today', 'flight tomorrow', 'flight tonight', 'flight tri', 'flight use', 'flight ve', 'flight vega', 'flight veri', 'flight voucher', 'flight wait', 'flight want', 'flight way', 'flight weather', 'flight week', 'flight whi', 'flight yesterday', 'flightl flight', 'flightl hold', 'flightl ticket', 'follow dm', 'follow pleas', 'forc check', 'frequent flyer', 'gate agent', 'gate attend', 'gate chang', 'gate check', 'gate flight', 'gon na', 'good know', 'good luck', 'good work', 'got bag', 'got cancel', 'got cancel flightl', 'got disconnect', 'got email', 'got flight', 'got rebook', 'got ta', 'great custom', 'great custom servic', 'great flight', 'great job', 'great servic', 'great thank', 'ground crew', 'guy rock', 'half hour', 'help appreci', 'help custom', 'help flight', 'help need', 'help pleas', 'help rebook', 'hi just', 'high volum', 'hold custom', 'hold flight', 'hold hour', 'hold hrs', 'hold min', 'hold minut', 'hold time', 'home today', \"hope n't\", 'horribl experi', 'hotel room', 'hotel voucher', 'hour ago', 'hour befor', 'hour count', 'hour delay', 'hour flight', 'hour half', 'hour hold', 'hour late', 'hour late flight', 'hour late flightr', 'hour minut', 'hour phone', 'hour plane', 'hour tri', 'hour wait', 'hr delay', 'hr min', 'hr wait', 'hrs ago', 'hrs hold', 'hrs late', 'hrs late flightr', 'imagin dragon', 'intern flight', 'issu flight', 'jet blue', 'just cancel', 'just did', 'just got', 'just hang', 'just land', 'just like', 'just need', 'just say', 'just sent', 'just sent dm', 'just told', 'just tri', 'just wait', 'just want', \"know 's\", 'lack communic', 'las vega', 'late flight', 'late flightr', 'leav hour', \"let 's\", 'let know', 'let plane', 'line peopl', 'live person', 'll fli', 'll make', 'load bag', 'long day', 'long time', 'long wait', 'look forward', 'look like', 'lose bag', 'lose luggag', 'lost bag', 'lost baggag', 'lost custom', 'lost luggag', 'love fli', 'love guy', 'loyal custom', 'mainten issu', 'make chang', 'make connect', 'make flight', 'make right', 'make sens', 'make sure', 'mani time', 'mechan issu', 'mechan problem', 'middl seat', 'mile account', 'mileag plus', 'min befor', 'min count', 'min delay', 'min hold', 'min late', 'min late flight', 'min wait', 'minut ago', 'minut befor', 'minut count', 'minut hold', 'minut wait', 'miss connect', 'miss connect flight', 'miss flight', 'month ago', 'morn flight', 'multipl time', \"n't abl\", \"n't allow\", \"n't ani\", \"n't answer\", \"n't anyon\", \"n't anyth\", \"n't bag\", \"n't believ\", \"n't board\", \"n't book\", \"n't care\", \"n't chang\", \"n't charg\", \"n't check\", \"n't delay\", \"n't dm\", \"n't fli\", \"n't flight\", \"n't heard\", \"n't help\", \"n't hold\", \"n't just\", \"n't know\", \"n't leav\", \"n't left\", \"n't let\", \"n't like\", \"n't look\", \"n't make\", \"n't miss\", \"n't need\", \"n't phone\", \"n't realli\", \"n't rebook\", \"n't receiv\", \"n't say\", \"n't tell\", \"n't think\", \"n't understand\", \"n't use\", \"n't wait\", \"n't want\", \"n't work\", \"n't worri\", 'nd time', 'need assist', 'need better', 'need chang', 'need chang flight', 'need flight', 'need help', 'need home', 'need work', 'new flight', 'new plane', 'new york', 'ok thank', 'okay thank', 'onli airlin', 'onli flight', 'onli way', 'onlin flight', 'open seat', 'origin flight', 'overhead bin', 'passeng flight', 'passeng wall', 'passeng wall street', 'past day', 'past hour', 'pay custom', 'pay extra', 'pay hotel', 'peopl flight', 'peopl wait', 'peopl work', 'phone hold', 'phone hour', 'phone line', 'phone number', 'phone wait', 'pick phone', 'pilot flight', 'plane flight', 'plane gate', 'plane hour', 'plane just', 'plane sit', 'pleas dm', 'pleas fix', 'pleas follow', 'pleas help', 'pleas let', \"pleas n't\", 'pleas send', 'pleas tell', 'pleas thank', 'pls help', 'pm flight', 'poor custom', 'poor custom servic', 'problem flight', 'purchas ticket', 'quick respons', 'real person', 'realli need', 'rebook cancel', 'rebook flight', 'reflight book', 'reflight book problem', 'relat flightd', 'rent car', 'rental car', 'reschedul flight', 'return flight', 'round trip', 'rt fleet', \"rt fleet 's\", \"said n't\", 'san diego', 'san juan', 'sat plane', \"say 's\", 'say flight', 'seat assign', 'seat avail', 'seat flight', 'second time', 'send dm', 'send email', 'sent dm', 'sent email', 'sent thank', 'servic agent', 'servic desk', 'servic line', 'servic rep', 'servic suck', 'servic thank', 'servic today', 'servic ve', 'sever time', 'sit gate', 'sit plane', 'sit plane hour', 'sit runway', 'sit tarmac', 'sleep airport', 'social media', 'someon els', 'someon pleas', 'sound like', 'speak agent', 'speak human', 'speak someon', 'spent hour', 'st class', 'st flight', 'status flight', 'status match', 'stuck plane', 'stuck tarmac', 'suppos leav', 'sure whi', 'switch flight', 'taken care', 'talk someon', 'tell flight', 'terribl custom', 'terribl custom servic', 'terribl servic', \"thank 's\", 'thank cancel', 'thank did', 'thank follow', 'thank good', 'thank great', 'thank guy', 'thank help', 'thank info', 'thank just', 'thank ll', 'thank make', 'thank noth', 'thank quick', 'thank quick respons', 'thank repli', 'thank respond', 'thank respons', 'thank u', 'thank updat', 'thank veri', \"think 's\", 'think ll', 'ticket agent', 'ticket counter', 'time fli', 'time flight', 'time just', 'time min', 'time today', 'time ve', \"today 's\", 'today flight', 'told flight', 'tomorrow cancel', 'tomorrow cancel flightl', 'tomorrow morn', 'took care', 'travel advisori', 'travel experi', 'treat custom', 'tri book', 'tri book flight', 'tri chang', 'tri check', 'tri figur', 'tri flight', 'tri home', 'tri make', 'tri reach', 'tri rebook', 'u guy', 'u help', 'understand weather', 'understand whi', 'unit airlin', 'unit flight', 'updat flight', 'use credit', 've flown', 've got', 've hold', 've hold hour', 've seen', 've tri', 've wait', 'veri disappoint', 'veri frustrat', 'veri help', 'wait bag', 'wait flight', 'wait gate', 'wait hold', 'wait hour', 'wait hrs', 'wait line', 'wait min', 'wait minut', 'wait phone', 'wait plane', 'wait time', 'wall street', 'wan na', 'want chang', 'want fli', 'want home', 'want know', 'wast time', 'weather delay', 'weather issu', 'weather relat', 'weather relat flightd', 'websit say', 'week ago', 'whi ca', \"whi ca n't\", 'whi did', 'whi doe', 'whi flight', \"whi n't\", 'whi onli', \"wife 's\", \"wo n't\", \"wo n't let\", 'worst airlin', 'worst custom', 'worst custom servic', 'worst experi', 'worst fli', 'worst servic', 'year old', 'yes did', 'yes pleas', 'yes thank', 'yr old']\n"
     ]
    },
    {
     "name": "stderr",
     "output_type": "stream",
     "text": [
      "C:\\Code\\lib\\site-packages\\sklearn\\feature_extraction\\text.py:484: UserWarning: The parameter 'token_pattern' will not be used since 'tokenizer' is not None'\n",
      "  warnings.warn(\"The parameter 'token_pattern' will not be used\"\n"
     ]
    },
    {
     "name": "stdout",
     "output_type": "stream",
     "text": [
      "Wall time: 9.47 s\n",
      "  (2, 146)\t1.0\n",
      "  (5, 146)\t1.0\n",
      "  (6, 625)\t0.7071067811865476\n",
      "  (6, 164)\t0.7071067811865476\n",
      "  (13, 2)\t1.0\n",
      "  (16, 232)\t0.7040194507073237\n",
      "  (16, 121)\t0.7101806904061515\n",
      "  (19, 684)\t1.0\n",
      "  (20, 554)\t1.0\n",
      "  (25, 588)\t1.0\n",
      "  (26, 702)\t0.5943321869893338\n",
      "  (26, 429)\t0.8042196537690904\n",
      "  (27, 472)\t1.0\n",
      "  (28, 431)\t0.8590490746027691\n",
      "  (28, 81)\t0.511893238306706\n",
      "  (29, 408)\t1.0\n",
      "  (30, 316)\t0.589724360740038\n",
      "  (30, 192)\t0.4456153511459782\n",
      "  (30, 191)\t0.4312458548660925\n",
      "  (30, 81)\t0.31625496656034874\n",
      "  (30, 77)\t0.40946543927360435\n",
      "  (36, 489)\t1.0\n",
      "  (37, 69)\t1.0\n",
      "  (38, 75)\t1.0\n",
      "  (41, 626)\t1.0\n",
      "  :\t:\n",
      "  (14627, 197)\t0.4076393846551074\n",
      "  (14627, 96)\t0.3499214287883302\n",
      "  (14627, 81)\t0.3489807168159074\n",
      "  (14627, 23)\t0.6276553008543857\n",
      "  (14628, 125)\t1.0\n",
      "  (14629, 107)\t1.0\n",
      "  (14632, 519)\t0.6098629620937192\n",
      "  (14632, 456)\t0.6578626857432153\n",
      "  (14632, 154)\t0.44190932799953253\n",
      "  (14633, 636)\t0.5103074665344262\n",
      "  (14633, 241)\t0.5813533971666575\n",
      "  (14633, 199)\t0.4028104856783904\n",
      "  (14633, 197)\t0.3712282044821285\n",
      "  (14633, 96)\t0.31866573400118897\n",
      "  (14635, 201)\t0.7071067811865475\n",
      "  (14635, 147)\t0.7071067811865475\n",
      "  (14636, 373)\t0.818054589286086\n",
      "  (14636, 183)\t0.5751405818997416\n",
      "  (14637, 35)\t1.0\n",
      "  (14638, 432)\t0.5692590431391985\n",
      "  (14638, 239)\t0.49778216568273215\n",
      "  (14638, 107)\t0.43848906831044904\n",
      "  (14638, 47)\t0.4856793122057881\n",
      "  (14639, 555)\t0.6983149970021153\n",
      "  (14639, 502)\t0.7157905873661204\n"
     ]
    }
   ],
   "source": [
    "terms = tfidf_vectorizer.get_feature_names()\n",
    "print(terms)\n",
    "tfidf_vectorizer.fit(tweets)\n",
    "%time text = tfidf_vectorizer.transform(tweets)\n",
    "print(text)\n"
   ]
  },
  {
   "cell_type": "code",
   "execution_count": 13,
   "metadata": {},
   "outputs": [
    {
     "name": "stdout",
     "output_type": "stream",
     "text": [
      "Fit 2 clusters\n",
      "Fit 4 clusters\n",
      "Fit 6 clusters\n",
      "Fit 8 clusters\n",
      "Fit 10 clusters\n"
     ]
    },
    {
     "data": {
      "image/png": "[encoded data removed]",
      "text/plain": [
       "<Figure size 432x288 with 1 Axes>"
      ]
     },
     "metadata": {
      "needs_background": "light"
     },
     "output_type": "display_data"
    }
   ],
   "source": [
    "def find_optimal_clusters(data, max_k):\n",
    "    iters = range(2, max_k+1, 2)\n",
    "    \n",
    "    sse = []\n",
    "    for k in iters:\n",
    "        sse.append(MiniBatchKMeans(n_clusters=k, init_size=1024, batch_size=2048, random_state=20).fit(data).inertia_)\n",
    "        print('Fit {} clusters'.format(k))\n",
    "        \n",
    "    f, ax = plt.subplots(1, 1)\n",
    "    ax.plot(iters, sse, marker='o')\n",
    "    ax.set_xlabel('Cluster Centers')\n",
    "    ax.set_xticks(iters)\n",
    "    ax.set_xticklabels(iters)\n",
    "    ax.set_ylabel('SSE')\n",
    "    ax.set_title('SSE by Cluster Center Plot')\n",
    "    \n",
    "find_optimal_clusters(text, 10)"
   ]
  },
  {
   "cell_type": "code",
   "execution_count": 14,
   "metadata": {},
   "outputs": [],
   "source": [
    "cluster_amt = 6"
   ]
  },
  {
   "cell_type": "code",
   "execution_count": 15,
   "metadata": {},
   "outputs": [],
   "source": [
    "clusters = MiniBatchKMeans(n_clusters=cluster_amt, init_size=1024, batch_size=2048, random_state=20).fit_predict(text)"
   ]
  },
  {
   "cell_type": "code",
   "execution_count": 16,
   "metadata": {},
   "outputs": [
    {
     "name": "stdout",
     "output_type": "stream",
     "text": [
      "Wall time: 1.22 s\n"
     ]
    }
   ],
   "source": [
    "from sklearn.cluster import KMeans\n",
    "\n",
    "num_clusters = cluster_amt\n",
    "\n",
    "km = KMeans(n_clusters=num_clusters)\n",
    "\n",
    "%time km.fit(tfidf_matrix)\n",
    "\n",
    "clusters = km.labels_.tolist()"
   ]
  },
  {
   "cell_type": "code",
   "execution_count": 17,
   "metadata": {
    "scrolled": false
   },
   "outputs": [
    {
     "data": {
      "text/plain": [
       "0    13563\n",
       "4      426\n",
       "5      322\n",
       "3      154\n",
       "2      111\n",
       "1       64\n",
       "Name: cluster, dtype: int64"
      ]
     },
     "execution_count": 17,
     "metadata": {},
     "output_type": "execute_result"
    }
   ],
   "source": [
    "Tweets = {'tweet': tweets, 'cluster': clusters}\n",
    "\n",
    "#frame = pd.DataFrame(Tweets, clusters)\n",
    "frame = pd.DataFrame(Tweets)\n",
    "frame['Aspect'] = \"Miscellaneous\"\n",
    "frame['Customer Service'] = 0\n",
    "frame['Delays'] = 0\n",
    "frame['Cancelled Flight(s)'] = 0\n",
    "frame['Seating'] = 0\n",
    "frame['Baggage'] = 0\n",
    "\n",
    "\n",
    "#print(frame)\n",
    "\n",
    "frame['cluster'].value_counts() #number of tweets per cluster (clusters from 0 to 5)\n"
   ]
  },
  {
   "cell_type": "code",
   "execution_count": 18,
   "metadata": {},
   "outputs": [],
   "source": [
    "comparison_count = frame['cluster'].value_counts().min()"
   ]
  },
  {
   "cell_type": "code",
   "execution_count": 19,
   "metadata": {},
   "outputs": [],
   "source": [
    "clusterwords = pd.DataFrame(columns = ['Cluster', 'Word', \"Reason\"])"
   ]
  },
  {
   "cell_type": "code",
   "execution_count": 20,
   "metadata": {},
   "outputs": [],
   "source": [
    "aspectsDF = pd.DataFrame(columns = ['Word', \"Reason\"])"
   ]
  },
  {
   "cell_type": "code",
   "execution_count": 21,
   "metadata": {
    "scrolled": false
   },
   "outputs": [
    {
     "name": "stdout",
     "output_type": "stream",
     "text": [
      "Top terms per cluster:\n",
      "Cluster 0 words:"
     ]
    },
    {
     "ename": "KeyError",
     "evalue": "\"ca n't\"",
     "output_type": "error",
     "traceback": [
      "\u001b[1;31m---------------------------------------------------------------------------\u001b[0m",
      "\u001b[1;31mKeyError\u001b[0m                                  Traceback (most recent call last)",
      "\u001b[1;32mC:\\Code\\lib\\site-packages\\pandas\\core\\indexes\\base.py\u001b[0m in \u001b[0;36mget_loc\u001b[1;34m(self, key, method, tolerance)\u001b[0m\n\u001b[0;32m   2645\u001b[0m             \u001b[1;32mtry\u001b[0m\u001b[1;33m:\u001b[0m\u001b[1;33m\u001b[0m\u001b[1;33m\u001b[0m\u001b[0m\n\u001b[1;32m-> 2646\u001b[1;33m                 \u001b[1;32mreturn\u001b[0m \u001b[0mself\u001b[0m\u001b[1;33m.\u001b[0m\u001b[0m_engine\u001b[0m\u001b[1;33m.\u001b[0m\u001b[0mget_loc\u001b[0m\u001b[1;33m(\u001b[0m\u001b[0mkey\u001b[0m\u001b[1;33m)\u001b[0m\u001b[1;33m\u001b[0m\u001b[1;33m\u001b[0m\u001b[0m\n\u001b[0m\u001b[0;32m   2647\u001b[0m             \u001b[1;32mexcept\u001b[0m \u001b[0mKeyError\u001b[0m\u001b[1;33m:\u001b[0m\u001b[1;33m\u001b[0m\u001b[1;33m\u001b[0m\u001b[0m\n",
      "\u001b[1;32mpandas\\_libs\\index.pyx\u001b[0m in \u001b[0;36mpandas._libs.index.IndexEngine.get_loc\u001b[1;34m()\u001b[0m\n",
      "\u001b[1;32mpandas\\_libs\\index.pyx\u001b[0m in \u001b[0;36mpandas._libs.index.IndexEngine.get_loc\u001b[1;34m()\u001b[0m\n",
      "\u001b[1;32mpandas\\_libs\\index.pyx\u001b[0m in \u001b[0;36mpandas._libs.index.IndexEngine._get_loc_duplicates\u001b[1;34m()\u001b[0m\n",
      "\u001b[1;32mpandas\\_libs\\index.pyx\u001b[0m in \u001b[0;36mpandas._libs.index.IndexEngine._maybe_get_bool_indexer\u001b[1;34m()\u001b[0m\n",
      "\u001b[1;31mKeyError\u001b[0m: \"ca n't\"",
      "\nDuring handling of the above exception, another exception occurred:\n",
      "\u001b[1;31mKeyError\u001b[0m                                  Traceback (most recent call last)",
      "\u001b[1;32m<ipython-input-21-48881080a394>\u001b[0m in \u001b[0;36m<module>\u001b[1;34m\u001b[0m\n\u001b[0;32m      9\u001b[0m \u001b[1;33m\u001b[0m\u001b[0m\n\u001b[0;32m     10\u001b[0m     \u001b[1;32mfor\u001b[0m \u001b[0mind\u001b[0m \u001b[1;32min\u001b[0m \u001b[0morder_centroids\u001b[0m\u001b[1;33m[\u001b[0m\u001b[0mi\u001b[0m\u001b[1;33m,\u001b[0m \u001b[1;33m:\u001b[0m\u001b[1;36m10\u001b[0m\u001b[1;33m]\u001b[0m\u001b[1;33m:\u001b[0m\u001b[1;33m\u001b[0m\u001b[1;33m\u001b[0m\u001b[0m\n\u001b[1;32m---> 11\u001b[1;33m         \u001b[0mword\u001b[0m \u001b[1;33m=\u001b[0m \u001b[1;34m' %s'\u001b[0m \u001b[1;33m%\u001b[0m \u001b[0mvocab_frame\u001b[0m\u001b[1;33m.\u001b[0m\u001b[0mloc\u001b[0m\u001b[1;33m[\u001b[0m\u001b[0mterms\u001b[0m\u001b[1;33m[\u001b[0m\u001b[0mind\u001b[0m\u001b[1;33m]\u001b[0m\u001b[1;33m]\u001b[0m\u001b[1;33m.\u001b[0m\u001b[0mvalues\u001b[0m\u001b[1;33m.\u001b[0m\u001b[0mtolist\u001b[0m\u001b[1;33m(\u001b[0m\u001b[1;33m)\u001b[0m\u001b[1;33m[\u001b[0m\u001b[1;36m0\u001b[0m\u001b[1;33m]\u001b[0m\u001b[1;33m[\u001b[0m\u001b[1;36m0\u001b[0m\u001b[1;33m]\u001b[0m\u001b[1;33m\u001b[0m\u001b[1;33m\u001b[0m\u001b[0m\n\u001b[0m\u001b[0;32m     12\u001b[0m         \u001b[0mprint\u001b[0m\u001b[1;33m(\u001b[0m\u001b[0mword\u001b[0m\u001b[1;33m,\u001b[0m \u001b[0mend\u001b[0m\u001b[1;33m=\u001b[0m\u001b[1;34m','\u001b[0m\u001b[1;33m)\u001b[0m\u001b[1;33m\u001b[0m\u001b[1;33m\u001b[0m\u001b[0m\n\u001b[0;32m     13\u001b[0m         \u001b[0mclusterwords\u001b[0m\u001b[1;33m.\u001b[0m\u001b[0mloc\u001b[0m\u001b[1;33m[\u001b[0m\u001b[0mlen\u001b[0m\u001b[1;33m(\u001b[0m\u001b[0mclusterwords\u001b[0m\u001b[1;33m.\u001b[0m\u001b[0mindex\u001b[0m\u001b[1;33m)\u001b[0m\u001b[1;33m]\u001b[0m \u001b[1;33m=\u001b[0m \u001b[1;33m[\u001b[0m\u001b[0mi\u001b[0m\u001b[1;33m,\u001b[0m \u001b[0mword\u001b[0m\u001b[1;33m,\u001b[0m \u001b[1;34m\"Miscellaneous\"\u001b[0m\u001b[1;33m]\u001b[0m\u001b[1;33m\u001b[0m\u001b[1;33m\u001b[0m\u001b[0m\n",
      "\u001b[1;32mC:\\Code\\lib\\site-packages\\pandas\\core\\indexing.py\u001b[0m in \u001b[0;36m__getitem__\u001b[1;34m(self, key)\u001b[0m\n\u001b[0;32m   1766\u001b[0m \u001b[1;33m\u001b[0m\u001b[0m\n\u001b[0;32m   1767\u001b[0m             \u001b[0mmaybe_callable\u001b[0m \u001b[1;33m=\u001b[0m \u001b[0mcom\u001b[0m\u001b[1;33m.\u001b[0m\u001b[0mapply_if_callable\u001b[0m\u001b[1;33m(\u001b[0m\u001b[0mkey\u001b[0m\u001b[1;33m,\u001b[0m \u001b[0mself\u001b[0m\u001b[1;33m.\u001b[0m\u001b[0mobj\u001b[0m\u001b[1;33m)\u001b[0m\u001b[1;33m\u001b[0m\u001b[1;33m\u001b[0m\u001b[0m\n\u001b[1;32m-> 1768\u001b[1;33m             \u001b[1;32mreturn\u001b[0m \u001b[0mself\u001b[0m\u001b[1;33m.\u001b[0m\u001b[0m_getitem_axis\u001b[0m\u001b[1;33m(\u001b[0m\u001b[0mmaybe_callable\u001b[0m\u001b[1;33m,\u001b[0m \u001b[0maxis\u001b[0m\u001b[1;33m=\u001b[0m\u001b[0maxis\u001b[0m\u001b[1;33m)\u001b[0m\u001b[1;33m\u001b[0m\u001b[1;33m\u001b[0m\u001b[0m\n\u001b[0m\u001b[0;32m   1769\u001b[0m \u001b[1;33m\u001b[0m\u001b[0m\n\u001b[0;32m   1770\u001b[0m     \u001b[1;32mdef\u001b[0m \u001b[0m_is_scalar_access\u001b[0m\u001b[1;33m(\u001b[0m\u001b[0mself\u001b[0m\u001b[1;33m,\u001b[0m \u001b[0mkey\u001b[0m\u001b[1;33m:\u001b[0m \u001b[0mTuple\u001b[0m\u001b[1;33m)\u001b[0m\u001b[1;33m:\u001b[0m\u001b[1;33m\u001b[0m\u001b[1;33m\u001b[0m\u001b[0m\n",
      "\u001b[1;32mC:\\Code\\lib\\site-packages\\pandas\\core\\indexing.py\u001b[0m in \u001b[0;36m_getitem_axis\u001b[1;34m(self, key, axis)\u001b[0m\n\u001b[0;32m   1963\u001b[0m         \u001b[1;31m# fall thru to straight lookup\u001b[0m\u001b[1;33m\u001b[0m\u001b[1;33m\u001b[0m\u001b[1;33m\u001b[0m\u001b[0m\n\u001b[0;32m   1964\u001b[0m         \u001b[0mself\u001b[0m\u001b[1;33m.\u001b[0m\u001b[0m_validate_key\u001b[0m\u001b[1;33m(\u001b[0m\u001b[0mkey\u001b[0m\u001b[1;33m,\u001b[0m \u001b[0maxis\u001b[0m\u001b[1;33m)\u001b[0m\u001b[1;33m\u001b[0m\u001b[1;33m\u001b[0m\u001b[0m\n\u001b[1;32m-> 1965\u001b[1;33m         \u001b[1;32mreturn\u001b[0m \u001b[0mself\u001b[0m\u001b[1;33m.\u001b[0m\u001b[0m_get_label\u001b[0m\u001b[1;33m(\u001b[0m\u001b[0mkey\u001b[0m\u001b[1;33m,\u001b[0m \u001b[0maxis\u001b[0m\u001b[1;33m=\u001b[0m\u001b[0maxis\u001b[0m\u001b[1;33m)\u001b[0m\u001b[1;33m\u001b[0m\u001b[1;33m\u001b[0m\u001b[0m\n\u001b[0m\u001b[0;32m   1966\u001b[0m \u001b[1;33m\u001b[0m\u001b[0m\n\u001b[0;32m   1967\u001b[0m \u001b[1;33m\u001b[0m\u001b[0m\n",
      "\u001b[1;32mC:\\Code\\lib\\site-packages\\pandas\\core\\indexing.py\u001b[0m in \u001b[0;36m_get_label\u001b[1;34m(self, label, axis)\u001b[0m\n\u001b[0;32m    623\u001b[0m             \u001b[1;32mraise\u001b[0m \u001b[0mIndexingError\u001b[0m\u001b[1;33m(\u001b[0m\u001b[1;34m\"no slices here, handle elsewhere\"\u001b[0m\u001b[1;33m)\u001b[0m\u001b[1;33m\u001b[0m\u001b[1;33m\u001b[0m\u001b[0m\n\u001b[0;32m    624\u001b[0m \u001b[1;33m\u001b[0m\u001b[0m\n\u001b[1;32m--> 625\u001b[1;33m         \u001b[1;32mreturn\u001b[0m \u001b[0mself\u001b[0m\u001b[1;33m.\u001b[0m\u001b[0mobj\u001b[0m\u001b[1;33m.\u001b[0m\u001b[0m_xs\u001b[0m\u001b[1;33m(\u001b[0m\u001b[0mlabel\u001b[0m\u001b[1;33m,\u001b[0m \u001b[0maxis\u001b[0m\u001b[1;33m=\u001b[0m\u001b[0maxis\u001b[0m\u001b[1;33m)\u001b[0m\u001b[1;33m\u001b[0m\u001b[1;33m\u001b[0m\u001b[0m\n\u001b[0m\u001b[0;32m    626\u001b[0m \u001b[1;33m\u001b[0m\u001b[0m\n\u001b[0;32m    627\u001b[0m     \u001b[1;32mdef\u001b[0m \u001b[0m_get_loc\u001b[0m\u001b[1;33m(\u001b[0m\u001b[0mself\u001b[0m\u001b[1;33m,\u001b[0m \u001b[0mkey\u001b[0m\u001b[1;33m:\u001b[0m \u001b[0mint\u001b[0m\u001b[1;33m,\u001b[0m \u001b[0maxis\u001b[0m\u001b[1;33m:\u001b[0m \u001b[0mint\u001b[0m\u001b[1;33m)\u001b[0m\u001b[1;33m:\u001b[0m\u001b[1;33m\u001b[0m\u001b[1;33m\u001b[0m\u001b[0m\n",
      "\u001b[1;32mC:\\Code\\lib\\site-packages\\pandas\\core\\generic.py\u001b[0m in \u001b[0;36mxs\u001b[1;34m(self, key, axis, level, drop_level)\u001b[0m\n\u001b[0;32m   3535\u001b[0m             \u001b[0mloc\u001b[0m\u001b[1;33m,\u001b[0m \u001b[0mnew_index\u001b[0m \u001b[1;33m=\u001b[0m \u001b[0mself\u001b[0m\u001b[1;33m.\u001b[0m\u001b[0mindex\u001b[0m\u001b[1;33m.\u001b[0m\u001b[0mget_loc_level\u001b[0m\u001b[1;33m(\u001b[0m\u001b[0mkey\u001b[0m\u001b[1;33m,\u001b[0m \u001b[0mdrop_level\u001b[0m\u001b[1;33m=\u001b[0m\u001b[0mdrop_level\u001b[0m\u001b[1;33m)\u001b[0m\u001b[1;33m\u001b[0m\u001b[1;33m\u001b[0m\u001b[0m\n\u001b[0;32m   3536\u001b[0m         \u001b[1;32melse\u001b[0m\u001b[1;33m:\u001b[0m\u001b[1;33m\u001b[0m\u001b[1;33m\u001b[0m\u001b[0m\n\u001b[1;32m-> 3537\u001b[1;33m             \u001b[0mloc\u001b[0m \u001b[1;33m=\u001b[0m \u001b[0mself\u001b[0m\u001b[1;33m.\u001b[0m\u001b[0mindex\u001b[0m\u001b[1;33m.\u001b[0m\u001b[0mget_loc\u001b[0m\u001b[1;33m(\u001b[0m\u001b[0mkey\u001b[0m\u001b[1;33m)\u001b[0m\u001b[1;33m\u001b[0m\u001b[1;33m\u001b[0m\u001b[0m\n\u001b[0m\u001b[0;32m   3538\u001b[0m \u001b[1;33m\u001b[0m\u001b[0m\n\u001b[0;32m   3539\u001b[0m             \u001b[1;32mif\u001b[0m \u001b[0misinstance\u001b[0m\u001b[1;33m(\u001b[0m\u001b[0mloc\u001b[0m\u001b[1;33m,\u001b[0m \u001b[0mnp\u001b[0m\u001b[1;33m.\u001b[0m\u001b[0mndarray\u001b[0m\u001b[1;33m)\u001b[0m\u001b[1;33m:\u001b[0m\u001b[1;33m\u001b[0m\u001b[1;33m\u001b[0m\u001b[0m\n",
      "\u001b[1;32mC:\\Code\\lib\\site-packages\\pandas\\core\\indexes\\base.py\u001b[0m in \u001b[0;36mget_loc\u001b[1;34m(self, key, method, tolerance)\u001b[0m\n\u001b[0;32m   2646\u001b[0m                 \u001b[1;32mreturn\u001b[0m \u001b[0mself\u001b[0m\u001b[1;33m.\u001b[0m\u001b[0m_engine\u001b[0m\u001b[1;33m.\u001b[0m\u001b[0mget_loc\u001b[0m\u001b[1;33m(\u001b[0m\u001b[0mkey\u001b[0m\u001b[1;33m)\u001b[0m\u001b[1;33m\u001b[0m\u001b[1;33m\u001b[0m\u001b[0m\n\u001b[0;32m   2647\u001b[0m             \u001b[1;32mexcept\u001b[0m \u001b[0mKeyError\u001b[0m\u001b[1;33m:\u001b[0m\u001b[1;33m\u001b[0m\u001b[1;33m\u001b[0m\u001b[0m\n\u001b[1;32m-> 2648\u001b[1;33m                 \u001b[1;32mreturn\u001b[0m \u001b[0mself\u001b[0m\u001b[1;33m.\u001b[0m\u001b[0m_engine\u001b[0m\u001b[1;33m.\u001b[0m\u001b[0mget_loc\u001b[0m\u001b[1;33m(\u001b[0m\u001b[0mself\u001b[0m\u001b[1;33m.\u001b[0m\u001b[0m_maybe_cast_indexer\u001b[0m\u001b[1;33m(\u001b[0m\u001b[0mkey\u001b[0m\u001b[1;33m)\u001b[0m\u001b[1;33m)\u001b[0m\u001b[1;33m\u001b[0m\u001b[1;33m\u001b[0m\u001b[0m\n\u001b[0m\u001b[0;32m   2649\u001b[0m         \u001b[0mindexer\u001b[0m \u001b[1;33m=\u001b[0m \u001b[0mself\u001b[0m\u001b[1;33m.\u001b[0m\u001b[0mget_indexer\u001b[0m\u001b[1;33m(\u001b[0m\u001b[1;33m[\u001b[0m\u001b[0mkey\u001b[0m\u001b[1;33m]\u001b[0m\u001b[1;33m,\u001b[0m \u001b[0mmethod\u001b[0m\u001b[1;33m=\u001b[0m\u001b[0mmethod\u001b[0m\u001b[1;33m,\u001b[0m \u001b[0mtolerance\u001b[0m\u001b[1;33m=\u001b[0m\u001b[0mtolerance\u001b[0m\u001b[1;33m)\u001b[0m\u001b[1;33m\u001b[0m\u001b[1;33m\u001b[0m\u001b[0m\n\u001b[0;32m   2650\u001b[0m         \u001b[1;32mif\u001b[0m \u001b[0mindexer\u001b[0m\u001b[1;33m.\u001b[0m\u001b[0mndim\u001b[0m \u001b[1;33m>\u001b[0m \u001b[1;36m1\u001b[0m \u001b[1;32mor\u001b[0m \u001b[0mindexer\u001b[0m\u001b[1;33m.\u001b[0m\u001b[0msize\u001b[0m \u001b[1;33m>\u001b[0m \u001b[1;36m1\u001b[0m\u001b[1;33m:\u001b[0m\u001b[1;33m\u001b[0m\u001b[1;33m\u001b[0m\u001b[0m\n",
      "\u001b[1;32mpandas\\_libs\\index.pyx\u001b[0m in \u001b[0;36mpandas._libs.index.IndexEngine.get_loc\u001b[1;34m()\u001b[0m\n",
      "\u001b[1;32mpandas\\_libs\\index.pyx\u001b[0m in \u001b[0;36mpandas._libs.index.IndexEngine.get_loc\u001b[1;34m()\u001b[0m\n",
      "\u001b[1;32mpandas\\_libs\\index.pyx\u001b[0m in \u001b[0;36mpandas._libs.index.IndexEngine._get_loc_duplicates\u001b[1;34m()\u001b[0m\n",
      "\u001b[1;32mpandas\\_libs\\index.pyx\u001b[0m in \u001b[0;36mpandas._libs.index.IndexEngine._maybe_get_bool_indexer\u001b[1;34m()\u001b[0m\n",
      "\u001b[1;31mKeyError\u001b[0m: \"ca n't\""
     ]
    }
   ],
   "source": [
    "print(\"Top terms per cluster:\")\n",
    "\n",
    "#sort cluster centers by proximity to centroid\n",
    "order_centroids = km.cluster_centers_.argsort()[:, ::-1] \n",
    "\n",
    "for i in range(cluster_amt):\n",
    "    print(\"Cluster %d words:\" % i, end='')\n",
    "    name = \"Cluster %d words:\" % i\n",
    "    \n",
    "    for ind in order_centroids[i, :10]:\n",
    "        word = ' %s' % vocab_frame.loc[terms[ind]].values.tolist()[0][0]\n",
    "        print(word, end=',')\n",
    "        clusterwords.loc[len(clusterwords.index)] = [i, word, \"Miscellaneous\"]\n",
    "    print() #add whitespace\n",
    "    print() #add whitespace\n"
   ]
  },
  {
   "cell_type": "code",
   "execution_count": null,
   "metadata": {
    "scrolled": false
   },
   "outputs": [],
   "source": [
    "#sort cluster centers by proximity to centroid\n",
    "order_centroids = km.cluster_centers_.argsort()[:, ::-1] \n",
    "\n",
    "aspect_words = []\n",
    "\n",
    "for i in range(cluster_amt):\n",
    "    for ind in order_centroids[i, :comparison_count]:\n",
    "        word = ' %s' % vocab_frame.loc[terms[ind].split(' ')].values.tolist()[0][0]\n",
    "        word = word.replace(\" \", \"\")\n",
    "        if word not in aspect_words:\n",
    "            aspect_words.append(word)\n",
    "            aspectsDF.loc[len(aspectsDF.index)] = [word, \"Miscellaneous\"]"
   ]
  },
  {
   "cell_type": "code",
   "execution_count": null,
   "metadata": {},
   "outputs": [],
   "source": [
    "aspect_assignments = {'Customer Service':['service', 'customer', 'phone', 'agent', 'email', 'speak', 'help', 'please', 'need', 'know', 'why', 'call'], \n",
    "                       'Delays':['delay', 'delayed', 'hour', 'hold', 'waited', 'late', 'status', 'schedule'], \n",
    "                       'Cancelled Flight(s)':['cancelled', 'rebook', 'missed', 'cancel', 'reschedule'], \n",
    "                       'Seating': ['book', 'booking', 'seats', 'seat', 'boarding'],\n",
    "                       'Baggage': ['bag', 'gate', 'check', 'lost', 'baggage', 'bags']\n",
    "                      }\n",
    "\n",
    "aspectsDF['Customer Service'] = 0\n",
    "aspectsDF['Delays'] = 0\n",
    "aspectsDF['Cancelled Flight(s)'] = 0\n",
    "aspectsDF['Seating'] = 0\n",
    "aspectsDF['Baggage'] = 0\n",
    "\n",
    "def get_key(val):\n",
    "    for key, value in aspect_assignments.items():\n",
    "        for item in value:\n",
    "            if (val == item):\n",
    "                return key"
   ]
  },
  {
   "cell_type": "code",
   "execution_count": null,
   "metadata": {},
   "outputs": [],
   "source": [
    "#print(aspectsDF)"
   ]
  },
  {
   "cell_type": "code",
   "execution_count": null,
   "metadata": {},
   "outputs": [],
   "source": [
    "for i in range(len(aspect_words)):\n",
    "    tof = False\n",
    "    word = aspect_words[i]\n",
    "    aspect_name = \"Miscellaneous\"\n",
    "    for value in aspect_assignments.values():\n",
    "        for item in value:\n",
    "            if (word == item):\n",
    "                tof = True\n",
    "                aspect_name = get_key(word)\n",
    "                break\n",
    "    aspectsDF.loc[i, 'Reason'] = aspect_name"
   ]
  },
  {
   "cell_type": "code",
   "execution_count": null,
   "metadata": {},
   "outputs": [],
   "source": [
    "#aspectsDF"
   ]
  },
  {
   "cell_type": "code",
   "execution_count": null,
   "metadata": {},
   "outputs": [],
   "source": [
    "for tweet in tweets:\n",
    "    cs= 0\n",
    "    de= 0\n",
    "    cf= 0\n",
    "    se= 0\n",
    "    ba= 0\n",
    "    tweet_array = tweet.split(\" \")\n",
    "    for word in tweet_array:\n",
    "        if word in aspectsDF.values:\n",
    "            index = aspectsDF.index[aspectsDF['Word'] == word].tolist()[0]\n",
    "            aspect = aspectsDF.Reason.values[index]\n",
    "            if aspect == 'Customer Service':\n",
    "                cs += 1\n",
    "            if aspect == 'Delays':\n",
    "                de += 1\n",
    "            if aspect == 'Cancelled Flight(s)':\n",
    "                cf += 1\n",
    "            if aspect == 'Seating':\n",
    "                se += 1\n",
    "            if aspect == 'Baggage':\n",
    "                ba += 1\n",
    "                \n",
    "    assignments = {'cs': cs,'de': de,'cf': cf,'se': se,'ba': ba}\n",
    "    aspects = {'cs': 'Customer Service','de': 'Delays','cf': 'Cancelled Flight(s)','se': 'Seating','ba': 'Baggage', 'me': \"Miscellaneous\"}\n",
    "    test_value = max(assignments.values())\n",
    "    test_key = 'me'\n",
    "    if test_value == 0:\n",
    "        test_key = 'me'\n",
    "    for key, value in assignments.items():\n",
    "        if test_value == value:\n",
    "            test_key = key\n",
    "            break\n",
    "            \n",
    "    tweet_index = frame.index[frame['tweet'] == tweet].tolist()[0]\n",
    "    frame.loc[tweet_index, 'Aspect'] = aspects[test_key]\n",
    "    frame.loc[tweet_index, 'Customer Service'] = cs\n",
    "    frame.loc[tweet_index, 'Delays'] = de\n",
    "    frame.loc[tweet_index, 'Cancelled Flight(s)'] = cf\n",
    "    frame.loc[tweet_index, 'Seating'] = se\n",
    "    frame.loc[tweet_index, 'Baggage'] = ba"
   ]
  },
  {
   "cell_type": "code",
   "execution_count": null,
   "metadata": {},
   "outputs": [],
   "source": [
    "#frame"
   ]
  },
  {
   "cell_type": "code",
   "execution_count": null,
   "metadata": {},
   "outputs": [],
   "source": [
    "df['Aspect'] = frame['Aspect']\n",
    "df['Customer Service'] = frame['Customer Service']\n",
    "df['Delays'] = frame['Delays']\n",
    "df['Cancelled Flight(s)'] = frame['Cancelled Flight(s)']\n",
    "df['Seating'] = frame['Seating']\n",
    "df['Baggage'] = frame['Baggage']\n",
    "\n",
    "df.head()"
   ]
  },
  {
   "cell_type": "code",
   "execution_count": null,
   "metadata": {},
   "outputs": [],
   "source": [
    "#https://codereview.stackexchange.com/questions/249329/finding-the-most-frequent-words-in-pandas-dataframe\n",
    "# for i in range(num_clusters):\n",
    "#     words = clusterwords[clusterwords.isin([i]).any(axis=1)]\n",
    "#     word_count = Counter(\" \".join(words.Word).split()).most_common(10)\n",
    "#     word_frequency = pd.DataFrame(word_count, columns = ['Word', 'Frequency'])\n",
    "#     print(word_frequency)\n",
    "#     print(\"Cluster \", i, \"'s most frequent word is: \", word_frequency.Word)"
   ]
  },
  {
   "cell_type": "code",
   "execution_count": null,
   "metadata": {},
   "outputs": [],
   "source": [
    "df.to_csv('clustered_tweets.csv')"
   ]
  }
 ],
 "metadata": {
  "kernelspec": {
   "display_name": "Python 3",
   "language": "python",
   "name": "python3"
  },
  "language_info": {
   "codemirror_mode": {
    "name": "ipython",
    "version": 3
   },
   "file_extension": ".py",
   "mimetype": "text/x-python",
   "name": "python",
   "nbconvert_exporter": "python",
   "pygments_lexer": "ipython3",
   "version": "3.8.3"
  }
 },
 "nbformat": 4,
 "nbformat_minor": 1
}
